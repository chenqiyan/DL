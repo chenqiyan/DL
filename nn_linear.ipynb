{
 "cells": [
  {
   "cell_type": "markdown",
   "id": "11aeb073",
   "metadata": {},
   "source": [
    "# 从零开始实现"
   ]
  },
  {
   "cell_type": "code",
   "execution_count": 13,
   "id": "2df84659",
   "metadata": {},
   "outputs": [],
   "source": [
    "import random\n",
    "import torch\n",
    "from d2l import torch as d2l"
   ]
  },
  {
   "cell_type": "code",
   "execution_count": 14,
   "id": "cda78a0c",
   "metadata": {},
   "outputs": [],
   "source": [
    "#生成合成数据集\n",
    "def synthetic_data(w,b,num):\n",
    "    X=torch.normal(0,1,(num,len(w)))\n",
    "    y=torch.matmul(X,w)+b\n",
    "    y+=torch.normal(0,0.01,y.shape)#加入服从均值为0，标准差为0.01的正态分布的噪声\n",
    "    return X,y.reshape((-1,1))\n",
    "\n",
    "\n",
    "\n",
    "true_w = torch.tensor([2,-3.4]).float()# 真实值\n",
    "true_b=4.2\n",
    "features, labels= synthetic_data(true_w,true_b,1000)"
   ]
  },
  {
   "cell_type": "code",
   "execution_count": 15,
   "id": "022cf9d8",
   "metadata": {},
   "outputs": [],
   "source": [
    "#打乱数据集样本，并抽取小批量样本。\n",
    "def data_iter(batch_size, features, labels):\n",
    "    num=len(features)\n",
    "    indices=list(range(num))\n",
    "    random.shuffle(indices)#打乱下标顺序\n",
    "    for i in range(0,num,batch_size):\n",
    "        batch_indices=torch.tensor(indices[i:min(i+batch_size,num)])#防止越界       \n",
    "        yield features[batch_indices],labels[batch_indices]"
   ]
  },
  {
   "cell_type": "code",
   "execution_count": 16,
   "id": "f5644a3c",
   "metadata": {},
   "outputs": [],
   "source": [
    "#初始化参数模型。\n",
    "w=torch.normal(0,0.01,size=(2,1),requires_grad=True)\n",
    "b=torch.zeros(1,requires_grad=True)  #需要计算梯度来更新参数\n",
    "batch_size=10"
   ]
  },
  {
   "cell_type": "markdown",
   "id": "9c19b8e1",
   "metadata": {},
   "source": [
    "## 定义模型"
   ]
  },
  {
   "cell_type": "code",
   "execution_count": 17,
   "id": "a0c15116",
   "metadata": {},
   "outputs": [],
   "source": [
    "def linreg(X,w,b):\n",
    "    return torch.matmul(X,w)+b\n"
   ]
  },
  {
   "cell_type": "markdown",
   "id": "92fea4be",
   "metadata": {},
   "source": [
    "## 定义平方损失函数\n"
   ]
  },
  {
   "cell_type": "code",
   "execution_count": 18,
   "id": "2264757f",
   "metadata": {},
   "outputs": [],
   "source": [
    "def squared_loss(y_hat,y):\n",
    "    return (y_hat-y.reshape(y_hat.shape))**2/2\n",
    "    "
   ]
  },
  {
   "cell_type": "markdown",
   "id": "887cc92f",
   "metadata": {},
   "source": [
    "## 定义优化算法(小批量梯度下降)"
   ]
  },
  {
   "cell_type": "code",
   "execution_count": 19,
   "id": "db4c0e22",
   "metadata": {},
   "outputs": [],
   "source": [
    "def sgd(params,lr,batch_size):\n",
    "    with torch.no_grad():\n",
    "        for param in params:\n",
    "            param -= lr* param.grad/batch_size\n",
    "            param.grad.zero_()"
   ]
  },
  {
   "cell_type": "code",
   "execution_count": 22,
   "id": "326efab3",
   "metadata": {},
   "outputs": [
    {
     "name": "stdout",
     "output_type": "stream",
     "text": [
      "epoch 1, loss 0.000110\n",
      "epoch 2, loss 0.000066\n",
      "epoch 3, loss 0.000058\n"
     ]
    }
   ],
   "source": [
    "lr=1\n",
    "num_epochs=3\n",
    "net=linreg\n",
    "loss=squared_loss\n",
    "\n",
    "for epoch in range(num_epochs):\n",
    "    for X,y in data_iter(batch_size, features, labels):\n",
    "        l=loss(net(X,w,b),y)\n",
    "        l.sum().backward()  #将l转化为标量\n",
    "        sgd([w,b],lr,batch_size) #更新参数\n",
    "    with torch.no_grad():\n",
    "        train_l=loss(net(features,w,b),labels)\n",
    "        print(f'epoch {epoch + 1}, loss {float(train_l.mean()):f}')"
   ]
  },
  {
   "cell_type": "markdown",
   "id": "8daf9b3a",
   "metadata": {},
   "source": [
    "# 使用框架实现"
   ]
  },
  {
   "cell_type": "code",
   "execution_count": null,
   "id": "48ae1e4b",
   "metadata": {},
   "outputs": [],
   "source": []
  },
  {
   "cell_type": "code",
   "execution_count": 26,
   "id": "cf154c5a",
   "metadata": {},
   "outputs": [],
   "source": [
    "import numpy as np\n",
    "import torch\n",
    "from torch.utils import data\n",
    "from d2l import torch as d2l\n",
    "true_w = torch.tensor([2, -3.4])\n",
    "true_b = 4.2\n",
    "features, labels = d2l.synthetic_data(true_w, true_b, 1000)\n"
   ]
  },
  {
   "cell_type": "code",
   "execution_count": 29,
   "id": "148478d9",
   "metadata": {},
   "outputs": [],
   "source": [
    "def load_array(data_arrays,batch_size,is_train=True):\n",
    "    dataset= data.TensorDataset(*data_arrays)\n",
    "    return data.DataLoader(dataset,batch_size,shuffle=is_train)\n",
    "batch_size=10\n",
    "data_iter = load_array((features,labels),batch_size)"
   ]
  },
  {
   "cell_type": "code",
   "execution_count": 44,
   "id": "f95b6c95",
   "metadata": {},
   "outputs": [
    {
     "data": {
      "text/plain": [
       "tensor([0.])"
      ]
     },
     "execution_count": 44,
     "metadata": {},
     "output_type": "execute_result"
    }
   ],
   "source": [
    "from torch import nn\n",
    "net=nn.Sequential(nn.Linear(2,1))#输入特征形状，输出特征形状\n",
    "net[0].weight.data.normal_(0,0.01)\n",
    "net[0].bias.data.fill_(0)"
   ]
  },
  {
   "cell_type": "code",
   "execution_count": 45,
   "id": "6e154bcf",
   "metadata": {},
   "outputs": [],
   "source": [
    "loss=nn.MSELoss()\n",
    "trainer=torch.optim.SGD(net.parameters(),lr=0.03)"
   ]
  },
  {
   "cell_type": "code",
   "execution_count": 46,
   "id": "cd0ae87f",
   "metadata": {},
   "outputs": [
    {
     "name": "stdout",
     "output_type": "stream",
     "text": [
      "epoch 1, loss 0.000229\n",
      "epoch 2, loss 0.000105\n",
      "epoch 3, loss 0.000104\n"
     ]
    }
   ],
   "source": [
    "num_epochs=3\n",
    "for epoch in range(num_epochs):\n",
    "    for X,y in data_iter:\n",
    "        l=loss(net(X),y)\n",
    "        trainer.zero_grad()\n",
    "        l.backward()\n",
    "        trainer.step()\n",
    "    l=loss(net(features), labels)\n",
    "    print(f'epoch {epoch + 1}, loss {l:f}')"
   ]
  },
  {
   "cell_type": "code",
   "execution_count": null,
   "id": "1179e447",
   "metadata": {},
   "outputs": [],
   "source": []
  }
 ],
 "metadata": {
  "kernelspec": {
   "display_name": "Python 3 (ipykernel)",
   "language": "python",
   "name": "python3"
  },
  "language_info": {
   "codemirror_mode": {
    "name": "ipython",
    "version": 3
   },
   "file_extension": ".py",
   "mimetype": "text/x-python",
   "name": "python",
   "nbconvert_exporter": "python",
   "pygments_lexer": "ipython3",
   "version": "3.10.4"
  }
 },
 "nbformat": 4,
 "nbformat_minor": 5
}
