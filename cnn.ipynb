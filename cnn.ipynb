{
 "cells": [
  {
   "cell_type": "code",
   "execution_count": 6,
   "id": "a0c7fee5",
   "metadata": {},
   "outputs": [],
   "source": [
    "import torch\n",
    "from torch import nn\n",
    "from d2l import torch as d2l\n",
    "\n",
    "def corr2d(X,K):\n",
    "    h,w=K.shape#h,w是卷积核的高度和宽度\n",
    "    Y=torch.zeros(X.shape[0]-h+1,X.shape[1]-h+1)\n",
    "    for i in range(Y.shape[0]):\n",
    "        for j in range(Y.shape[1]):\n",
    "            Y[i,j]= (X[i:i+h,j:j+w]*K).sum()\n",
    "    return Y"
   ]
  },
  {
   "cell_type": "markdown",
   "id": "61d572e8",
   "metadata": {},
   "source": [
    "### 与多层感知机的训练思路相同 卷积层被训练的参数是卷积核权重和标量偏置"
   ]
  },
  {
   "cell_type": "code",
   "execution_count": 3,
   "id": "121cd177",
   "metadata": {},
   "outputs": [],
   "source": [
    "class Conv2d(nn.Module):\n",
    "    def __init__(self,kernel_size):\n",
    "        super().__init__()\n",
    "        self.weight=nn.Parameter(torch.rand(kernel_size))#weight是矩阵\n",
    "        self.bias=nn.Parameter(torch.zeros(1))\n",
    "        \n",
    "    def forward(self,x):\n",
    "        return corr2d(x,self.weight)+self.bias"
   ]
  },
  {
   "cell_type": "code",
   "execution_count": 4,
   "id": "64d15c19",
   "metadata": {},
   "outputs": [
    {
     "data": {
      "text/plain": [
       "tensor([[1., 1., 0., 0., 0., 0., 1., 1.],\n",
       "        [1., 1., 0., 0., 0., 0., 1., 1.],\n",
       "        [1., 1., 0., 0., 0., 0., 1., 1.],\n",
       "        [1., 1., 0., 0., 0., 0., 1., 1.],\n",
       "        [1., 1., 0., 0., 0., 0., 1., 1.],\n",
       "        [1., 1., 0., 0., 0., 0., 1., 1.]])"
      ]
     },
     "execution_count": 4,
     "metadata": {},
     "output_type": "execute_result"
    }
   ],
   "source": [
    "#构造一个6*8像素的黑白图像。中间四列为黑色0，其余像素为白色1\n",
    "x=torch.ones((6,8))\n",
    "x[:,2:6]=0\n",
    "x"
   ]
  },
  {
   "cell_type": "code",
   "execution_count": 8,
   "id": "0d639fa6",
   "metadata": {},
   "outputs": [
    {
     "data": {
      "text/plain": [
       "tensor([[ 0.,  1.,  0.,  0.,  0., -1.,  0.,  0.],\n",
       "        [ 0.,  1.,  0.,  0.,  0., -1.,  0.,  0.],\n",
       "        [ 0.,  1.,  0.,  0.,  0., -1.,  0.,  0.],\n",
       "        [ 0.,  1.,  0.,  0.,  0., -1.,  0.,  0.],\n",
       "        [ 0.,  1.,  0.,  0.,  0., -1.,  0.,  0.],\n",
       "        [ 0.,  1.,  0.,  0.,  0., -1.,  0.,  0.]])"
      ]
     },
     "execution_count": 8,
     "metadata": {},
     "output_type": "execute_result"
    }
   ],
   "source": [
    "#构造高度为1、宽度为2的卷积核K\n",
    "K=torch.tensor([[1.0,-1.0]])   #构造思路 水平相邻的两元素相同，输出为0，否则输出为非零\n",
    "Y=corr2d(x,K)\n",
    "Y"
   ]
  },
  {
   "cell_type": "code",
   "execution_count": 10,
   "id": "83e28c69",
   "metadata": {},
   "outputs": [
    {
     "data": {
      "text/plain": [
       "torch.Size([8, 8])"
      ]
     },
     "execution_count": 10,
     "metadata": {},
     "output_type": "execute_result"
    }
   ],
   "source": [
    "def comp_conv2d(conv2d,X):\n",
    "    X=X.reshape((1,1)+X.shape)\n",
    "    Y=conv2d(X)\n",
    "    return Y.reshape(Y.shape[2:])#??\n",
    "conv2d=nn.Conv2d(1,1,kernel_size=3,padding=1) #(3-1)/2\n",
    "X= torch.rand(size=(8,8))\n",
    "comp_conv2d(conv2d,X).shape\n"
   ]
  },
  {
   "cell_type": "code",
   "execution_count": 11,
   "id": "041837d1",
   "metadata": {},
   "outputs": [
    {
     "data": {
      "text/plain": [
       "torch.Size([4, 4])"
      ]
     },
     "execution_count": 11,
     "metadata": {},
     "output_type": "execute_result"
    }
   ],
   "source": [
    "conv2d=nn.Conv2d(1,1,kernel_size=3,padding=1,stride=2)\n",
    "comp_conv2d(conv2d,X).shape"
   ]
  },
  {
   "cell_type": "code",
   "execution_count": 14,
   "id": "cba16ec4",
   "metadata": {},
   "outputs": [],
   "source": [
    "def corr2d_multi_in(X,k):\n",
    "    return sum(d2l.corr2d(x,k) for x,k in zip(X,K))"
   ]
  },
  {
   "cell_type": "code",
   "execution_count": 15,
   "id": "5fcb1e7d",
   "metadata": {},
   "outputs": [],
   "source": [
    "def corr2d_multi_in_out(X,K):\n",
    "    return torch.stack([corr2d_multi_in(X,k) for k in K],0)"
   ]
  },
  {
   "cell_type": "markdown",
   "id": "1e1b1e21",
   "metadata": {},
   "source": [
    "## 1 * 1卷积层"
   ]
  },
  {
   "cell_type": "code",
   "execution_count": 16,
   "id": "6195b871",
   "metadata": {},
   "outputs": [],
   "source": [
    "def corr2d_multi_in_out_1x1(X,K):\n",
    "    c_i,h,w=X.shape\n",
    "    c_o=K.shape[0]    ##卷积输出通道数为2\n",
    "    X=X.reshape((c_i,h*w))\n",
    "    K=K.reshape((c_o,c_i))\n",
    "    Y=torch.matmul(K,X)\n",
    "    return Y.reshape((c_o,h,w))"
   ]
  },
  {
   "cell_type": "code",
   "execution_count": 18,
   "id": "acc96eb6",
   "metadata": {},
   "outputs": [
    {
     "data": {
      "text/plain": [
       "tensor([[[-0.2790,  0.4501,  1.0748],\n",
       "         [-1.1810, -0.4813, -1.1517],\n",
       "         [-0.9784, -0.2526, -0.0867]],\n",
       "\n",
       "        [[ 1.5539,  0.1029, -0.4231],\n",
       "         [ 0.2723,  0.8079,  0.7693],\n",
       "         [ 1.0240, -1.9154, -1.5742]],\n",
       "\n",
       "        [[ 0.4208,  1.1938,  0.6759],\n",
       "         [-0.0355,  0.4763,  0.0606],\n",
       "         [-0.2947,  0.5205,  0.3657]]])"
      ]
     },
     "execution_count": 18,
     "metadata": {},
     "output_type": "execute_result"
    }
   ],
   "source": [
    "X= torch.normal(0,1,(3,3,3))\n",
    "K= torch.normal(0,1,(2,3,1,1))\n",
    "X"
   ]
  },
  {
   "cell_type": "code",
   "execution_count": 19,
   "id": "fc1e92a8",
   "metadata": {},
   "outputs": [
    {
     "data": {
      "text/plain": [
       "tensor([[[[ 0.3081]],\n",
       "\n",
       "         [[-0.1402]],\n",
       "\n",
       "         [[ 0.5605]]],\n",
       "\n",
       "\n",
       "        [[[ 1.1649]],\n",
       "\n",
       "         [[ 0.3740]],\n",
       "\n",
       "         [[-1.2891]]]])"
      ]
     },
     "execution_count": 19,
     "metadata": {},
     "output_type": "execute_result"
    }
   ],
   "source": [
    "K"
   ]
  },
  {
   "cell_type": "code",
   "execution_count": 21,
   "id": "23f356f9",
   "metadata": {},
   "outputs": [
    {
     "data": {
      "text/plain": [
       "tensor([[ 0.3081, -0.1402,  0.5605],\n",
       "        [ 1.1649,  0.3740, -1.2891]])"
      ]
     },
     "execution_count": 21,
     "metadata": {},
     "output_type": "execute_result"
    }
   ],
   "source": [
    "K.reshape((K.shape[0],X.shape[0]))"
   ]
  },
  {
   "cell_type": "code",
   "execution_count": 22,
   "id": "2f792960",
   "metadata": {},
   "outputs": [
    {
     "data": {
      "text/plain": [
       "tensor([[-0.2790,  0.4501,  1.0748, -1.1810, -0.4813, -1.1517, -0.9784, -0.2526,\n",
       "         -0.0867],\n",
       "        [ 1.5539,  0.1029, -0.4231,  0.2723,  0.8079,  0.7693,  1.0240, -1.9154,\n",
       "         -1.5742],\n",
       "        [ 0.4208,  1.1938,  0.6759, -0.0355,  0.4763,  0.0606, -0.2947,  0.5205,\n",
       "          0.3657]])"
      ]
     },
     "execution_count": 22,
     "metadata": {},
     "output_type": "execute_result"
    }
   ],
   "source": [
    "X.reshape((X.shape[0],X.shape[1]*X.shape[2]))"
   ]
  },
  {
   "cell_type": "code",
   "execution_count": null,
   "id": "8539d2b7",
   "metadata": {},
   "outputs": [],
   "source": []
  }
 ],
 "metadata": {
  "kernelspec": {
   "display_name": "Python 3 (ipykernel)",
   "language": "python",
   "name": "python3"
  },
  "language_info": {
   "codemirror_mode": {
    "name": "ipython",
    "version": 3
   },
   "file_extension": ".py",
   "mimetype": "text/x-python",
   "name": "python",
   "nbconvert_exporter": "python",
   "pygments_lexer": "ipython3",
   "version": "3.10.4"
  }
 },
 "nbformat": 4,
 "nbformat_minor": 5
}
