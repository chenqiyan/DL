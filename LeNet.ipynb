{
 "cells": [
  {
   "cell_type": "code",
   "execution_count": 1,
   "id": "8a619e83",
   "metadata": {},
   "outputs": [],
   "source": [
    "import torch\n",
    "from torch import nn\n",
    "from d2l import torch as d2l\n",
    "\n",
    "dropout=0.5\n",
    "net= nn.Sequential(\n",
    "    nn.Conv2d(1,6,kernel_size=5,padding=2),nn.ReLU(),\n",
    "    nn.AvgPool2d(kernel_size=2,stride=2),\n",
    "    nn.Conv2d(6,16,kernel_size=5),nn.ReLU(),\n",
    "    nn.AvgPool2d(kernel_size=2,stride=2),\n",
    "    nn.Flatten(),\n",
    "    nn.Linear(16*5*5,120),nn.ReLU(),\n",
    "    nn.Linear(120,84),nn.Sigmoid(),\n",
    "    nn.Linear(84,10)\n",
    ")"
   ]
  },
  {
   "cell_type": "code",
   "execution_count": 2,
   "id": "ab02874c",
   "metadata": {},
   "outputs": [],
   "source": [
    "batch_size=256\n",
    "train_iter,test_iter=d2l.load_data_fashion_mnist(batch_size=batch_size)\n"
   ]
  },
  {
   "cell_type": "code",
   "execution_count": 3,
   "id": "01a08eec",
   "metadata": {},
   "outputs": [],
   "source": [
    "def evaluate_accuracy_gpu(net,data_iter,device=None):\n",
    "    if isinstance(net,nn.Module):\n",
    "        net.eval()#设置为评估模式\n",
    "        if not device:\n",
    "            device=next(iter(net.parameters())).device\n",
    "    \n",
    "    metric=d2l.Accumulator(2)\n",
    "    with torch.no_grad():\n",
    "        for X,y in data_iter:\n",
    "            if isinstance(X,list):\n",
    "                X= [x.to(device) for x in X]\n",
    "            else:\n",
    "                X = X.to(device)\n",
    "            y = y.to(device)\n",
    "            metric.add(d2l.accuracy(net(X),y),y.numel()) #numel元素数量\n",
    "    return metric[0]/metric[1]"
   ]
  },
  {
   "cell_type": "code",
   "execution_count": 4,
   "id": "435f2960",
   "metadata": {},
   "outputs": [],
   "source": [
    "def train(net,train_iter,test_iter,num_epochs,lr,device):\n",
    "    #用gpu训练模型\n",
    "    def init_weights(m):\n",
    "        if type(m)== nn.Linear or type(m)== nn.Conv2d:\n",
    "            nn.init.xavier_uniform_(m.weight)\n",
    "    net.apply(init_weights)\n",
    "    print('training on', device)\n",
    "    net.to(device)\n",
    "    optimizer = torch.optim.SGD(net.parameters(),lr=lr)\n",
    "    loss=nn.CrossEntropyLoss()\n",
    "    \n",
    "    timer,num_batches=d2l.Timer(),len(train_iter)   #计时器\n",
    "    \n",
    "    for epochs in range(num_epochs):\n",
    "        metric=d2l.Accumulator(3)\n",
    "        net.train()\n",
    "        for i,(X,y) in enumerate(train_iter):##获得索引值\n",
    "            timer.start()#开始计时\n",
    "            optimizer.zero_grad()\n",
    "            X,y=X.to(device),y.to(device)\n",
    "            y_hat=net(X)\n",
    "            l=loss(y_hat,y)\n",
    "            l.backward()\n",
    "            optimizer.step()#通过梯度下降优化\n",
    "            with torch.no_grad():\n",
    "                metric.add(l*X.shape[0],d2l.accuracy(y_hat,y),X.shape[0])\n",
    "                \n",
    "            timer.stop()#结束计时  计算梯度下降的时间\n",
    "            \n",
    "            train_l=metric[0]/metric[2]\n",
    "            train_acc=metric[1]/metric[2]\n",
    "        test_acc=evaluate_accuracy_gpu(net,test_iter)\n",
    "    print(f'loss {train_l:.3f}, train acc {train_acc:.3f}, '\n",
    "          f'test acc {test_acc:.3f}')\n",
    "    print(f'{metric[2] * num_epochs / timer.sum():.1f} examples/sec '\n",
    "          f'on {str(device)}')\n",
    "    \n",
    "    \n",
    "    "
   ]
  },
  {
   "cell_type": "code",
   "execution_count": 5,
   "id": "4a805166",
   "metadata": {
    "scrolled": true
   },
   "outputs": [
    {
     "name": "stdout",
     "output_type": "stream",
     "text": [
      "training on cuda:0\n",
      "loss 0.715, train acc 0.742, test acc 0.745\n",
      "45417.4 examples/sec on cuda:0\n"
     ]
    }
   ],
   "source": [
    "lr,num_epochs=0.01,10\n",
    "train(net,train_iter,test_iter,num_epochs,lr,d2l.try_gpu())"
   ]
  },
  {
   "cell_type": "code",
   "execution_count": null,
   "id": "ec8849f0",
   "metadata": {},
   "outputs": [],
   "source": []
  }
 ],
 "metadata": {
  "kernelspec": {
   "display_name": "Python 3 (ipykernel)",
   "language": "python",
   "name": "python3"
  },
  "language_info": {
   "codemirror_mode": {
    "name": "ipython",
    "version": 3
   },
   "file_extension": ".py",
   "mimetype": "text/x-python",
   "name": "python",
   "nbconvert_exporter": "python",
   "pygments_lexer": "ipython3",
   "version": "3.10.4"
  }
 },
 "nbformat": 4,
 "nbformat_minor": 5
}
